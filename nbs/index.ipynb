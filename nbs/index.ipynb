{
 "cells": [
  {
   "cell_type": "code",
   "execution_count": null,
   "metadata": {},
   "outputs": [],
   "source": [
    "#| hide\n",
    "from skill_challenge.core import *"
   ]
  },
  {
   "attachments": {},
   "cell_type": "markdown",
   "metadata": {},
   "source": [
    "# `phoss`\n",
    "\n",
    "> Some examples of photonic integrated design using mostly **Free** and **Open Source** Software (FOSS)"
   ]
  },
  {
   "attachments": {},
   "cell_type": "markdown",
   "metadata": {},
   "source": [
    "Hey everyone, my name is **Jan David Fischbach**. \n",
    "I have studied electrical engineering 💡 at *RWTH University*, where I graduated with a master's degree in 2022 🎓. Attached are some examples of photonic integrated design.\n",
    "\n",
    "Please find out more about me [here](https://jan-dav.id)."
   ]
  },
  {
   "cell_type": "markdown",
   "metadata": {},
   "source": []
  }
 ],
 "metadata": {
  "kernelspec": {
   "display_name": "python3",
   "language": "python",
   "name": "python3"
  }
 },
 "nbformat": 4,
 "nbformat_minor": 4
}
