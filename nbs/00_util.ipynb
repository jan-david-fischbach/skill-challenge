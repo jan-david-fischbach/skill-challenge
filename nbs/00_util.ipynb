{
 "cells": [
  {
   "attachments": {},
   "cell_type": "markdown",
   "metadata": {},
   "source": [
    "# util\n",
    "\n",
    "> utilities for use in the challenges"
   ]
  },
  {
   "cell_type": "markdown",
   "metadata": {},
   "source": [
    "These are just utility functions I use througout `phoss`. I mostly use this place for features that are *not yet* implemented in the respective open source packages I use."
   ]
  },
  {
   "cell_type": "code",
   "execution_count": null,
   "metadata": {},
   "outputs": [],
   "source": [
    "#| default_exp util"
   ]
  },
  {
   "cell_type": "code",
   "execution_count": null,
   "metadata": {},
   "outputs": [
    {
     "name": "stdout",
     "output_type": "stream",
     "text": [
      "\u001b[32m2023-06-18 21:27:36.035\u001b[0m | \u001b[1mINFO    \u001b[0m | \u001b[36mgdsfactory.config\u001b[0m:\u001b[36m__init__\u001b[0m:\u001b[36m204\u001b[0m - \u001b[1mLogLevel: INFO\u001b[0m\n",
      "\u001b[32m2023-06-18 21:27:38.691\u001b[0m | \u001b[1mINFO    \u001b[0m | \u001b[36mgdsfactory.simulation.gtidy3d\u001b[0m:\u001b[36m<module>\u001b[0m:\u001b[36m60\u001b[0m - \u001b[1mTidy3d '2.2.2' installed at ['/opt/conda/lib/python3.9/site-packages/tidy3d']\u001b[0m\n"
     ]
    }
   ],
   "source": [
    "#| exports\n",
    "# util functions go here\n",
    "import numpy as np\n",
    "import gdsfactory.simulation.gtidy3d as gt\n",
    "import matplotlib.pyplot as plt\n",
    "import gdsfactory as gf\n",
    "from tqdm.notebook import tqdm\n",
    "import meow as mw\n",
    "\n",
    "gf.config.rich_output()\n",
    "PDK = gf.generic_tech.get_generic_pdk()\n",
    "PDK.activate()\n",
    "\n",
    "nm = 1e-3"
   ]
  },
  {
   "cell_type": "markdown",
   "metadata": {},
   "source": [
    "At the time of setting these examples up `TE_pol_fraction` was not yet implemented by Tidy3D / gdsfactory. Now that it is implemented I should remove this and use the published version at some point."
   ]
  },
  {
   "cell_type": "code",
   "execution_count": null,
   "metadata": {},
   "outputs": [],
   "source": [
    "#|exports\n",
    "def TE_pol_fraction(mode):\n",
    "        \"\"\"TE polarization fraction according to Lumericals definition. (assuming a regular mesh)\"\"\"\n",
    "        Ex_sq = np.abs(mode._data[\"Ex\"])**2\n",
    "        Ey_sq = np.abs(mode._data[\"Ey\"])**2\n",
    "        \n",
    "        return np.sum(Ex_sq, axis=(0,1))/np.sum(Ex_sq+Ey_sq, axis=(0,1))\n",
    "\n",
    "from meow.mode import Mode, eps0, mu0\n",
    "\n",
    "def te_fraction(mode: Mode) -> float:\n",
    "    \"\"\"the TE polarization fraction of the `Mode`\"\"\"\n",
    "    epsx = np.real(mode.cs.nx**2)\n",
    "    e = np.sum(0.5 * eps0 * epsx * np.abs(mode.Ex) ** 2)\n",
    "    h = np.sum(0.5 * mu0 * np.abs(mode.Hx) ** 2)\n",
    "    return np.real(e / (e + h))"
   ]
  },
  {
   "cell_type": "code",
   "execution_count": null,
   "metadata": {},
   "outputs": [],
   "source": [
    "#|export\n",
    "#|hide\n",
    "setattr(gt.modes.Waveguide, 'TE_pol_fraction', property(TE_pol_fraction))"
   ]
  },
  {
   "attachments": {},
   "cell_type": "markdown",
   "metadata": {},
   "source": [
    "## Caching in `meow`\n",
    "By carefully caching modes we can avoid quite a lot of redundant calculations in `meow`. We need to be carefull however to not be sensitive with respect to parameters, that don't influence the EM-mode, like `z_min` and `z_max`. The way I solve that here is pretty barebones. Since `meow v0.7` this coupling is removed. So the workaround below should not be necessary anymore."
   ]
  },
  {
   "cell_type": "code",
   "execution_count": null,
   "metadata": {},
   "outputs": [],
   "source": [
    "#| exporti\n",
    "import meow as mw\n",
    "from functools import lru_cache\n",
    "import json\n",
    "from hashlib import md5\n",
    "from meow import BaseModel, CrossSection, Mode\n",
    "from pydantic import Field"
   ]
  },
  {
   "cell_type": "code",
   "execution_count": null,
   "metadata": {},
   "outputs": [],
   "source": [
    "#| exporti\n",
    "def dict_to_hash(d: dict):\n",
    "  \"\"\"Converts a dictionary of distinctive properties into a hash using md5\"\"\"\n",
    "  arr = np.frombuffer(md5(json.dumps(d).encode()).digest(), dtype=np.uint8)[-8:]\n",
    "  idx = np.arange(arr.shape[0], dtype=np.int64)[::-1]\n",
    "  return np.asarray(np.sum(arr * 255**idx), dtype=np.int_).item()"
   ]
  },
  {
   "cell_type": "code",
   "execution_count": null,
   "metadata": {},
   "outputs": [],
   "source": [
    "#| exports\n",
    "class cCrossSection(BaseModel):\n",
    "  cs: CrossSection = Field(\n",
    "    description=\"the contained CrossSection\"\n",
    "  )\n",
    "\n",
    "  def __hash__(self):\n",
    "    m = self.cs.cell.m_full\n",
    "    return dict_to_hash(dict(r=self.cs.cell.mesh.bend_radius, m=hash(m.tostring())))\n",
    "\n",
    "  def __eq__(self, other):\n",
    "    return hash(self) == hash(other)\n",
    "\n",
    "class cMode(BaseModel):\n",
    "  mode: Mode = Field(\n",
    "    description=\"the contained Mode\"\n",
    "  )\n",
    "  \n",
    "  def getMode(self) -> Mode:\n",
    "    return self.mode\n",
    "\n",
    "  def __hash__(self):\n",
    "    return dict_to_hash(dict(neff=str(self.mode.neff), r=str(self.mode.cs.cell.mesh.bend_radius)))\n",
    "  \n",
    "  def __eq__(self, other):\n",
    "    return hash(self) == hash(other)"
   ]
  },
  {
   "cell_type": "code",
   "execution_count": null,
   "metadata": {},
   "outputs": [],
   "source": [
    "#| exporti\n",
    "from functools import wraps\n",
    "def cached(func):\n",
    "    func.cache = {}\n",
    "    @wraps(func)\n",
    "    def wrapper(*args):\n",
    "        try:\n",
    "            return func.cache[args]\n",
    "        except KeyError:\n",
    "            func.cache[args] = result = func(*args)\n",
    "            return result   \n",
    "    return wrapper"
   ]
  },
  {
   "cell_type": "code",
   "execution_count": null,
   "metadata": {},
   "outputs": [],
   "source": [
    "#| exports\n",
    "@cached\n",
    "def inner(ccs, num_modes):\n",
    "  return mw.compute_modes(ccs.cs, num_modes)\n",
    "\n",
    "def cachedComputeModes(cs, num_modes):\n",
    "  modes = inner(cCrossSection(cs=cs), num_modes)\n",
    "  return [mode.copy(update={'cs': cs}) for mode in modes]"
   ]
  },
  {
   "cell_type": "code",
   "execution_count": null,
   "metadata": {},
   "outputs": [],
   "source": [
    "#| hide\n",
    "import nbdev; nbdev.nbdev_export()"
   ]
  }
 ],
 "metadata": {
  "kernelspec": {
   "display_name": "python3",
   "language": "python",
   "name": "python3"
  }
 },
 "nbformat": 4,
 "nbformat_minor": 4
}
